{
 "cells": [
  {
   "cell_type": "code",
   "execution_count": 56,
   "id": "cbad8d4d",
   "metadata": {},
   "outputs": [],
   "source": [
    "import plotly as py\n",
    "import plotly.figure_factory as ff"
   ]
  },
  {
   "cell_type": "code",
   "execution_count": 57,
   "id": "6bf7071a",
   "metadata": {},
   "outputs": [],
   "source": [
    "pyplt = py.offline.plot"
   ]
  },
  {
   "cell_type": "code",
   "execution_count": 58,
   "id": "e3df119a",
   "metadata": {},
   "outputs": [],
   "source": [
    "df3 = [dict(Task=\"Market Research\", Start='2021-10-08', Finish='2021-10-15', Complete=100),\n",
    "      dict(Task=\"Identify consumer 'pain points'\", Start='2021-10-13', Finish='2021-10-17', Complete=100),\n",
    "      dict(Task=\"User interface design\", Start='2021-10-17', Finish='2021-10-24', Complete=80),\n",
    "      dict(Task=\"Sign in & up, modify profile (code)\", Start='2021-10-24', Finish='2021-10-31', Complete=90),     \n",
    "      dict(Task=\"Chat (code)\", Start='2021-11-01', Finish='2021-11-05', Complete=100), \n",
    "      dict(Task=\"Friend & file management (code)\", Start='2021-11-08', Finish='2021-11-15', Complete=90),\n",
    "      dict(Task=\"Bluetooth (code)\", Start='2021-11-22', Finish='2021-11-27', Complete=30),\n",
    "      dict(Task=\"Thesis(chpt1 & abstract)\", Start='2021-11-05', Finish='2021-11-26', Complete=50),\n",
    "      dict(Task=\"Thesis(chpt2 & 3)\", Start='2021-11-16', Finish='2021-11-20', Complete=90),\n",
    "      dict(Task=\"Deploy, Test & run\", Start='2021-11-14', Finish='2021-11-30', Complete=100),\n",
    "      dict(Task=\"Improve and modify\", Start='2021-11-20', Finish='2021-11-30', Complete=60)]"
   ]
  },
  {
   "cell_type": "code",
   "execution_count": 59,
   "id": "b6cbd441",
   "metadata": {},
   "outputs": [
    {
     "data": {
      "text/plain": [
       "'C:/Users/1/Desktop/PGT IT/Semester3/2.html'"
      ]
     },
     "execution_count": 59,
     "metadata": {},
     "output_type": "execute_result"
    }
   ],
   "source": [
    "fig = ff.create_gantt(df3, index_col='Complete', show_colorbar=True)\n",
    "pyplt(fig, filename='C:/Users/1/Desktop/PGT IT/Semester3/2.html')"
   ]
  },
  {
   "cell_type": "markdown",
   "id": "1320193b",
   "metadata": {},
   "source": [
    "1. Market research\n",
    "2. Identify consumer \"pain points\" and the characteristics of the software\n",
    "3. User interface design\n",
    "4. Chat function (code)\n",
    "5. Friend management and file management functions (code)\n",
    "6. Login, register function, modify personal data function (code)\n",
    "7. Deploy using cloud services\n",
    "7. Test and run on different phones\n",
    "8. Improve and modify the application"
   ]
  },
  {
   "cell_type": "code",
   "execution_count": null,
   "id": "69df417c",
   "metadata": {},
   "outputs": [],
   "source": []
  }
 ],
 "metadata": {
  "kernelspec": {
   "display_name": "Python 3",
   "language": "python",
   "name": "python3"
  },
  "language_info": {
   "codemirror_mode": {
    "name": "ipython",
    "version": 3
   },
   "file_extension": ".py",
   "mimetype": "text/x-python",
   "name": "python",
   "nbconvert_exporter": "python",
   "pygments_lexer": "ipython3",
   "version": "3.8.8"
  }
 },
 "nbformat": 4,
 "nbformat_minor": 5
}
